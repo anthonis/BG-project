{
 "cells": [
  {
   "cell_type": "markdown",
   "metadata": {},
   "source": [
    "## Predicting if blood glucose is in target range\n",
    "\n",
    "Here are what each column represents:\n",
    "\n",
    "FILL ME"
   ]
  },
  {
   "cell_type": "code",
   "execution_count": 1,
   "metadata": {},
   "outputs": [],
   "source": [
    "#Import libraries\n",
    "import numpy as np\n",
    "import pandas as pd\n",
    "import seaborn as sns\n",
    "import matplotlib.pyplot as plt\n",
    "from datetime import datetime\n",
    "from io import StringIO\n",
    "%matplotlib inline"
   ]
  },
  {
   "cell_type": "code",
   "execution_count": 9,
   "metadata": {},
   "outputs": [],
   "source": [
    "#Get the data\n",
    "df = pd.read_csv('CareLink-Export-2.csv')"
   ]
  },
  {
   "cell_type": "markdown",
   "metadata": {},
   "source": [
    "The csv file is formatted such that we have 2 DataFrames (2 sets of column labels and data) one on top of the other. We need to find the index where the second DataFrame begins and create 2 DataFrames."
   ]
  },
  {
   "cell_type": "code",
   "execution_count": 4,
   "metadata": {},
   "outputs": [
    {
     "name": "stdout",
     "output_type": "stream",
     "text": [
      "Int64Index([23048], dtype='int64')\n"
     ]
    }
   ],
   "source": [
    "idx = df[df['Time']=='Sensor'].index\n",
    "print(idx)"
   ]
  },
  {
   "cell_type": "code",
   "execution_count": 5,
   "metadata": {},
   "outputs": [
    {
     "data": {
      "text/html": [
       "<div>\n",
       "<style scoped>\n",
       "    .dataframe tbody tr th:only-of-type {\n",
       "        vertical-align: middle;\n",
       "    }\n",
       "\n",
       "    .dataframe tbody tr th {\n",
       "        vertical-align: top;\n",
       "    }\n",
       "\n",
       "    .dataframe thead th {\n",
       "        text-align: right;\n",
       "    }\n",
       "</style>\n",
       "<table border=\"1\" class=\"dataframe\">\n",
       "  <thead>\n",
       "    <tr style=\"text-align: right;\">\n",
       "      <th></th>\n",
       "      <th>Index</th>\n",
       "      <th>Date</th>\n",
       "      <th>Time</th>\n",
       "      <th>New Device Time</th>\n",
       "      <th>BG Reading (mmol/L)</th>\n",
       "      <th>Linked BG Meter ID</th>\n",
       "      <th>Basal Rate (U/h)</th>\n",
       "      <th>Temp Basal Amount</th>\n",
       "      <th>Temp Basal Type</th>\n",
       "      <th>Temp Basal Duration (h:mm:ss)</th>\n",
       "      <th>...</th>\n",
       "      <th>Scroll Step Size</th>\n",
       "      <th>Insulin Action Curve Time</th>\n",
       "      <th>Sensor Calibration Rejected Reason</th>\n",
       "      <th>Preset Bolus</th>\n",
       "      <th>Bolus Source</th>\n",
       "      <th>Network Device Associated Reason</th>\n",
       "      <th>Network Device Disassociated Reason</th>\n",
       "      <th>Network Device Disconnected Reason</th>\n",
       "      <th>Sensor Exception</th>\n",
       "      <th>Preset Temp Basal Name</th>\n",
       "    </tr>\n",
       "  </thead>\n",
       "  <tbody>\n",
       "    <tr>\n",
       "      <td>23048</td>\n",
       "      <td>-------</td>\n",
       "      <td>MiniMed 670G MMT-1782</td>\n",
       "      <td>Sensor</td>\n",
       "      <td>NG1786171H</td>\n",
       "      <td>-------</td>\n",
       "      <td>NaN</td>\n",
       "      <td>NaN</td>\n",
       "      <td>NaN</td>\n",
       "      <td>NaN</td>\n",
       "      <td>NaN</td>\n",
       "      <td>...</td>\n",
       "      <td>NaN</td>\n",
       "      <td>NaN</td>\n",
       "      <td>NaN</td>\n",
       "      <td>NaN</td>\n",
       "      <td>NaN</td>\n",
       "      <td>NaN</td>\n",
       "      <td>NaN</td>\n",
       "      <td>NaN</td>\n",
       "      <td>NaN</td>\n",
       "      <td>NaN</td>\n",
       "    </tr>\n",
       "  </tbody>\n",
       "</table>\n",
       "<p>1 rows × 47 columns</p>\n",
       "</div>"
      ],
      "text/plain": [
       "         Index                   Date    Time New Device Time  \\\n",
       "23048  -------  MiniMed 670G MMT-1782  Sensor      NG1786171H   \n",
       "\n",
       "      BG Reading (mmol/L) Linked BG Meter ID Basal Rate (U/h)  \\\n",
       "23048            -------                 NaN              NaN   \n",
       "\n",
       "      Temp Basal Amount Temp Basal Type Temp Basal Duration (h:mm:ss)  ...  \\\n",
       "23048               NaN             NaN                           NaN  ...   \n",
       "\n",
       "      Scroll Step Size Insulin Action Curve Time  \\\n",
       "23048              NaN                       NaN   \n",
       "\n",
       "      Sensor Calibration Rejected Reason Preset Bolus Bolus Source  \\\n",
       "23048                                NaN          NaN          NaN   \n",
       "\n",
       "      Network Device Associated Reason Network Device Disassociated Reason  \\\n",
       "23048                              NaN                                 NaN   \n",
       "\n",
       "      Network Device Disconnected Reason Sensor Exception  \\\n",
       "23048                                NaN              NaN   \n",
       "\n",
       "      Preset Temp Basal Name  \n",
       "23048                    NaN  \n",
       "\n",
       "[1 rows x 47 columns]"
      ]
     },
     "execution_count": 5,
     "metadata": {},
     "output_type": "execute_result"
    }
   ],
   "source": [
    "df[df['Time']=='Sensor']"
   ]
  },
  {
   "cell_type": "code",
   "execution_count": 6,
   "metadata": {},
   "outputs": [],
   "source": [
    "#The first DataFrame\n",
    "pump = df.iloc[:23047,]"
   ]
  },
  {
   "cell_type": "code",
   "execution_count": 7,
   "metadata": {},
   "outputs": [],
   "source": [
    "#The second DataFrame\n",
    "#Ends at 53208-->I know this from looking at the CSV file. To-do: find a better way to id end of file\n",
    "sensor = df.iloc[23050:53208,]"
   ]
  },
  {
   "cell_type": "code",
   "execution_count": 13,
   "metadata": {},
   "outputs": [
    {
     "name": "stdout",
     "output_type": "stream",
     "text": [
      "<class 'pandas.core.frame.DataFrame'>\n",
      "RangeIndex: 53434 entries, 0 to 53433\n",
      "Data columns (total 47 columns):\n",
      "Index                                  53433 non-null object\n",
      "Date                                   53433 non-null object\n",
      "Time                                   53433 non-null object\n",
      "New Device Time                        9 non-null object\n",
      "BG Reading (mmol/L)                    2138 non-null object\n",
      "Linked BG Meter ID                     1 non-null object\n",
      "Basal Rate (U/h)                       867 non-null object\n",
      "Temp Basal Amount                      1 non-null object\n",
      "Temp Basal Type                        1 non-null object\n",
      "Temp Basal Duration (h:mm:ss)          1 non-null object\n",
      "Bolus Type                             17647 non-null object\n",
      "Bolus Volume Selected (U)              17590 non-null object\n",
      "Bolus Volume Delivered (U)             16726 non-null object\n",
      "Bolus Duration (h:mm:ss)               1 non-null object\n",
      "Prime Type                             29 non-null object\n",
      "Prime Volume Delivered (U)             29 non-null object\n",
      "Alarm                                  839 non-null object\n",
      "Suspend                                125 non-null object\n",
      "Rewind                                 15 non-null object\n",
      "BWZ Estimate (U)                       993 non-null object\n",
      "BWZ Target High BG (mmol/L)            80 non-null object\n",
      "BWZ Target Low BG (mmol/L)             80 non-null object\n",
      "BWZ Carb Ratio (g/U)                   993 non-null object\n",
      "BWZ Insulin Sensitivity (mmol/L/U)     80 non-null object\n",
      "BWZ Carb Input (grams)                 993 non-null object\n",
      "BWZ BG Input (mmol/L)                  993 non-null object\n",
      "BWZ Correction Estimate (U)            993 non-null object\n",
      "BWZ Food Estimate (U)                  993 non-null object\n",
      "BWZ Active Insulin (U)                 80 non-null object\n",
      "Sensor Calibration BG (mmol/L)         296 non-null object\n",
      "Sensor Glucose (mmol/L)                28932 non-null object\n",
      "ISIG Value                             28932 non-null object\n",
      "Event Marker                           217 non-null object\n",
      "Bolus Number                           17647 non-null object\n",
      "Bolus Cancellation Reason              57 non-null object\n",
      "BWZ Unabsorbed Insulin Total (U)       80 non-null object\n",
      "Final Bolus Estimate                   80 non-null object\n",
      "Scroll Step Size                       80 non-null object\n",
      "Insulin Action Curve Time              2 non-null object\n",
      "Sensor Calibration Rejected Reason     7 non-null object\n",
      "Preset Bolus                           1 non-null object\n",
      "Bolus Source                           17589 non-null object\n",
      "Network Device Associated Reason       1 non-null object\n",
      "Network Device Disassociated Reason    1 non-null object\n",
      "Network Device Disconnected Reason     16 non-null object\n",
      "Sensor Exception                       1238 non-null object\n",
      "Preset Temp Basal Name                 1 non-null object\n",
      "dtypes: object(47)\n",
      "memory usage: 19.2+ MB\n"
     ]
    }
   ],
   "source": [
    "#sensor.head()\n",
    "df.info()"
   ]
  },
  {
   "cell_type": "code",
   "execution_count": 95,
   "metadata": {},
   "outputs": [
    {
     "data": {
      "text/plain": [
       "30158"
      ]
     },
     "execution_count": 95,
     "metadata": {},
     "output_type": "execute_result"
    }
   ],
   "source": [
    "len(sensor)"
   ]
  },
  {
   "cell_type": "code",
   "execution_count": 96,
   "metadata": {},
   "outputs": [],
   "source": [
    "#set index to 0\n",
    "sensor = sensor.reset_index() "
   ]
  },
  {
   "cell_type": "markdown",
   "metadata": {},
   "source": [
    "Let's merge the 'Date' and 'Time' columns for each DataFrame and convert them to a datetime object."
   ]
  },
  {
   "cell_type": "code",
   "execution_count": 97,
   "metadata": {},
   "outputs": [],
   "source": [
    "def sw(string):\n",
    "    '''A function to format 'Date' column\n",
    "    '''\n",
    "    return '20'+string+' '"
   ]
  },
  {
   "cell_type": "code",
   "execution_count": 98,
   "metadata": {},
   "outputs": [
    {
     "name": "stderr",
     "output_type": "stream",
     "text": [
      "/Users/madeleineanthonisen1/opt/anaconda3/lib/python3.7/site-packages/ipykernel_launcher.py:1: SettingWithCopyWarning: \n",
      "A value is trying to be set on a copy of a slice from a DataFrame.\n",
      "Try using .loc[row_indexer,col_indexer] = value instead\n",
      "\n",
      "See the caveats in the documentation: http://pandas.pydata.org/pandas-docs/stable/user_guide/indexing.html#returning-a-view-versus-a-copy\n",
      "  \"\"\"Entry point for launching an IPython kernel.\n"
     ]
    }
   ],
   "source": [
    "pump['Date'] = pump['Date'].apply(sw)"
   ]
  },
  {
   "cell_type": "code",
   "execution_count": 99,
   "metadata": {},
   "outputs": [],
   "source": [
    "sensor['Date'] = sensor['Date'].apply(sw)"
   ]
  },
  {
   "cell_type": "code",
   "execution_count": 100,
   "metadata": {},
   "outputs": [
    {
     "name": "stderr",
     "output_type": "stream",
     "text": [
      "/Users/madeleineanthonisen1/opt/anaconda3/lib/python3.7/site-packages/ipykernel_launcher.py:1: SettingWithCopyWarning: \n",
      "A value is trying to be set on a copy of a slice from a DataFrame.\n",
      "Try using .loc[row_indexer,col_indexer] = value instead\n",
      "\n",
      "See the caveats in the documentation: http://pandas.pydata.org/pandas-docs/stable/user_guide/indexing.html#returning-a-view-versus-a-copy\n",
      "  \"\"\"Entry point for launching an IPython kernel.\n"
     ]
    }
   ],
   "source": [
    "pump['datetime'] = pump['Date']+pump['Time']"
   ]
  },
  {
   "cell_type": "code",
   "execution_count": 101,
   "metadata": {},
   "outputs": [
    {
     "name": "stderr",
     "output_type": "stream",
     "text": [
      "/Users/madeleineanthonisen1/opt/anaconda3/lib/python3.7/site-packages/ipykernel_launcher.py:1: SettingWithCopyWarning: \n",
      "A value is trying to be set on a copy of a slice from a DataFrame.\n",
      "Try using .loc[row_indexer,col_indexer] = value instead\n",
      "\n",
      "See the caveats in the documentation: http://pandas.pydata.org/pandas-docs/stable/user_guide/indexing.html#returning-a-view-versus-a-copy\n",
      "  \"\"\"Entry point for launching an IPython kernel.\n"
     ]
    }
   ],
   "source": [
    "pump['datetime'] = pd.to_datetime(pump['datetime'])"
   ]
  },
  {
   "cell_type": "code",
   "execution_count": 102,
   "metadata": {},
   "outputs": [],
   "source": [
    "sensor['datetime'] = sensor['Date']+sensor['Time']"
   ]
  },
  {
   "cell_type": "code",
   "execution_count": 103,
   "metadata": {},
   "outputs": [],
   "source": [
    "sensor['datetime'] = pd.to_datetime(sensor['datetime'])"
   ]
  },
  {
   "cell_type": "code",
   "execution_count": 104,
   "metadata": {},
   "outputs": [],
   "source": [
    "#Take the 2 non-null columns and create a new data frame\n",
    "sensor2 = sensor[['datetime','Sensor Glucose (mmol/L)']]"
   ]
  },
  {
   "cell_type": "code",
   "execution_count": 105,
   "metadata": {},
   "outputs": [
    {
     "data": {
      "text/html": [
       "<div>\n",
       "<style scoped>\n",
       "    .dataframe tbody tr th:only-of-type {\n",
       "        vertical-align: middle;\n",
       "    }\n",
       "\n",
       "    .dataframe tbody tr th {\n",
       "        vertical-align: top;\n",
       "    }\n",
       "\n",
       "    .dataframe thead th {\n",
       "        text-align: right;\n",
       "    }\n",
       "</style>\n",
       "<table border=\"1\" class=\"dataframe\">\n",
       "  <thead>\n",
       "    <tr style=\"text-align: right;\">\n",
       "      <th></th>\n",
       "      <th>datetime</th>\n",
       "      <th>Sensor Glucose (mmol/L)</th>\n",
       "    </tr>\n",
       "  </thead>\n",
       "  <tbody>\n",
       "    <tr>\n",
       "      <td>0</td>\n",
       "      <td>2020-03-17 10:57:43</td>\n",
       "      <td>8.27</td>\n",
       "    </tr>\n",
       "    <tr>\n",
       "      <td>1</td>\n",
       "      <td>2020-03-17 10:52:43</td>\n",
       "      <td>8.38</td>\n",
       "    </tr>\n",
       "    <tr>\n",
       "      <td>2</td>\n",
       "      <td>2020-03-17 10:47:43</td>\n",
       "      <td>8.55</td>\n",
       "    </tr>\n",
       "    <tr>\n",
       "      <td>3</td>\n",
       "      <td>2020-03-17 10:42:43</td>\n",
       "      <td>8.66</td>\n",
       "    </tr>\n",
       "    <tr>\n",
       "      <td>4</td>\n",
       "      <td>2020-03-17 10:37:43</td>\n",
       "      <td>8.66</td>\n",
       "    </tr>\n",
       "  </tbody>\n",
       "</table>\n",
       "</div>"
      ],
      "text/plain": [
       "             datetime Sensor Glucose (mmol/L)\n",
       "0 2020-03-17 10:57:43                    8.27\n",
       "1 2020-03-17 10:52:43                    8.38\n",
       "2 2020-03-17 10:47:43                    8.55\n",
       "3 2020-03-17 10:42:43                    8.66\n",
       "4 2020-03-17 10:37:43                    8.66"
      ]
     },
     "execution_count": 105,
     "metadata": {},
     "output_type": "execute_result"
    }
   ],
   "source": [
    "sensor2.head()"
   ]
  },
  {
   "cell_type": "code",
   "execution_count": 106,
   "metadata": {},
   "outputs": [],
   "source": [
    "#100*pump.isnull().sum()/len(pump)"
   ]
  },
  {
   "cell_type": "code",
   "execution_count": 107,
   "metadata": {},
   "outputs": [],
   "source": [
    "#drop columns that are entirely null or associated with pump settings I don't use\n",
    "pump2 = pump.drop(['New Device Time','Index',\n",
    "       'Linked BG Meter ID','Bolus Duration (h:mm:ss)', 'Prime Type', 'Prime Volume Delivered (U)','Sensor Calibration BG (mmol/L)',\n",
    "       'Sensor Glucose (mmol/L)', 'ISIG Value', 'Bolus Cancellation Reason', 'BWZ Unabsorbed Insulin Total (U)',\n",
    "       'Final Bolus Estimate', 'Scroll Step Size','Sensor Calibration Rejected Reason', 'Preset Bolus', \n",
    "       'Network Device Associated Reason',\n",
    "       'Network Device Disassociated Reason',\n",
    "       'Network Device Disconnected Reason', 'Sensor Exception',\n",
    "       'Preset Temp Basal Name'],axis=1)"
   ]
  },
  {
   "cell_type": "code",
   "execution_count": null,
   "metadata": {},
   "outputs": [],
   "source": []
  },
  {
   "cell_type": "code",
   "execution_count": null,
   "metadata": {},
   "outputs": [],
   "source": []
  },
  {
   "cell_type": "markdown",
   "metadata": {},
   "source": [
    "**Now let's use interval matching to combine columns of sensor with pump.\n",
    "Ref: https://stackoverflow.com/questions/34880539/pandas-merging-based-on-a-timestamp-which-do-not-match-exactly**"
   ]
  },
  {
   "cell_type": "code",
   "execution_count": 108,
   "metadata": {},
   "outputs": [
    {
     "name": "stderr",
     "output_type": "stream",
     "text": [
      "/Users/madeleineanthonisen1/opt/anaconda3/lib/python3.7/site-packages/ipykernel_launcher.py:6: SettingWithCopyWarning: \n",
      "A value is trying to be set on a copy of a slice from a DataFrame.\n",
      "Try using .loc[row_indexer,col_indexer] = value instead\n",
      "\n",
      "See the caveats in the documentation: http://pandas.pydata.org/pandas-docs/stable/user_guide/indexing.html#returning-a-view-versus-a-copy\n",
      "  \n"
     ]
    }
   ],
   "source": [
    "# half-threshold in nanoseconds\n",
    "threshold = 1\n",
    "threshold_ns = threshold * 60 * 1e9\n",
    "\n",
    "# compute \"interval\" to which each session belongs\n",
    "sensor2['interval'] = pd.to_datetime(np.round(sensor2.datetime.astype(np.int64) / threshold_ns) * threshold_ns)\n",
    "pump2['interval'] = pd.to_datetime(np.round(pump2.datetime.astype(np.int64) / threshold_ns) * threshold_ns)\n",
    "\n",
    "# join\n",
    "#cols = ['interval', 'BG Reading (mmol/L)', 'Basal Rate (U/h)','Bolus Type','Bolus Volume Selected (U)','Bolus Volume Delivered (U)','Alarm','Suspend','Rewind','BWZ Carb Input (grams)','BWZ Correction Estimate (U)', 'BWZ Food Estimate (U)',\n",
    "    #   'BWZ Active Insulin (U)','Sensor Glucose (mmol/L)' ]\n",
    "new = sensor2.merge(pump2, on='interval', how='outer')"
   ]
  },
  {
   "cell_type": "code",
   "execution_count": 109,
   "metadata": {},
   "outputs": [],
   "source": [
    "#new.head()"
   ]
  },
  {
   "cell_type": "code",
   "execution_count": 110,
   "metadata": {},
   "outputs": [],
   "source": [
    "#new.tail()"
   ]
  },
  {
   "cell_type": "code",
   "execution_count": 111,
   "metadata": {},
   "outputs": [
    {
     "data": {
      "text/plain": [
       "38984"
      ]
     },
     "execution_count": 111,
     "metadata": {},
     "output_type": "execute_result"
    }
   ],
   "source": [
    "len(new)"
   ]
  },
  {
   "cell_type": "code",
   "execution_count": 112,
   "metadata": {},
   "outputs": [],
   "source": [
    "#new.columns"
   ]
  },
  {
   "cell_type": "code",
   "execution_count": 113,
   "metadata": {},
   "outputs": [
    {
     "data": {
      "text/plain": [
       "datetime_x                             19.456700\n",
       "Sensor Glucose (mmol/L)                23.047917\n",
       "interval                                0.000000\n",
       "Date                                   40.880874\n",
       "Time                                   40.880874\n",
       "BG Reading (mmol/L)                    94.520829\n",
       "Basal Rate (U/h)                       97.778576\n",
       "Temp Basal Amount                     100.000000\n",
       "Temp Basal Type                       100.000000\n",
       "Temp Basal Duration (h:mm:ss)         100.000000\n",
       "Bolus Type                             54.735276\n",
       "Bolus Volume Selected (U)              54.881490\n",
       "Bolus Volume Delivered (U)             57.097784\n",
       "Alarm                                  97.850400\n",
       "Suspend                                99.681921\n",
       "Rewind                                 99.964088\n",
       "BWZ Estimate (U)                       97.455366\n",
       "BWZ Target High BG (mmol/L)            99.797353\n",
       "BWZ Target Low BG (mmol/L)             99.797353\n",
       "BWZ Carb Ratio (g/U)                   97.455366\n",
       "BWZ Insulin Sensitivity (mmol/L/U)     99.797353\n",
       "BWZ Carb Input (grams)                 97.455366\n",
       "BWZ BG Input (mmol/L)                  97.455366\n",
       "BWZ Correction Estimate (U)            97.455366\n",
       "BWZ Food Estimate (U)                  97.455366\n",
       "BWZ Active Insulin (U)                 99.797353\n",
       "Event Marker                          100.000000\n",
       "Bolus Number                           54.735276\n",
       "Insulin Action Curve Time              99.997435\n",
       "Bolus Source                           54.884055\n",
       "datetime_y                             40.880874\n",
       "dtype: float64"
      ]
     },
     "execution_count": 113,
     "metadata": {},
     "output_type": "execute_result"
    }
   ],
   "source": [
    "100*new.isnull().sum()/len(new)"
   ]
  },
  {
   "cell_type": "code",
   "execution_count": 60,
   "metadata": {},
   "outputs": [
    {
     "data": {
      "text/plain": [
       "<matplotlib.axes._subplots.AxesSubplot at 0x1a17017950>"
      ]
     },
     "execution_count": 60,
     "metadata": {},
     "output_type": "execute_result"
    },
    {
     "data": {
      "image/png": "[encoded data removed]",
      "text/plain": [
       "<Figure size 432x288 with 1 Axes>"
      ]
     },
     "metadata": {
      "needs_background": "light"
     },
     "output_type": "display_data"
    }
   ],
   "source": [
    "sns.heatmap(new.isnull(),yticklabels=False,cbar=False,cmap='viridis')"
   ]
  },
  {
   "cell_type": "code",
   "execution_count": 114,
   "metadata": {},
   "outputs": [],
   "source": [
    "#drop more columns that are entirely null or associated with pump settings I don't use\n",
    "new = new.drop(['datetime_x','Date', 'Time','datetime_y'],axis=1)\n",
    "new = new.drop(['Temp Basal Amount','Temp Basal Type','Temp Basal Duration (h:mm:ss)'],axis=1)\n",
    "new = new.drop(['Event Marker'],axis=1)\n",
    "#No idea what this one is--could try to fill it\n",
    "new = new.drop(['Bolus Number'],axis=1)\n",
    "new = new.drop('BWZ Food Estimate (U)',axis=1)\n",
    "new = new.drop('BWZ Active Insulin (U)',axis=1)\n",
    "#new = new.drop('Bolus Source',axis=1)\n",
    "#drop columns associated with settings I don't use\n",
    "new = new.drop('Bolus Volume Selected (U)',axis=1)\n",
    "#?? could make a better model with these??\n",
    "new = new.drop(['BWZ Estimate (U)','BWZ BG Input (mmol/L)','Insulin Action Curve Time',\n",
    "                'BWZ Insulin Sensitivity (mmol/L/U)'],axis=1)"
   ]
  },
  {
   "cell_type": "code",
   "execution_count": 115,
   "metadata": {},
   "outputs": [],
   "source": [
    "new = new.drop(['BWZ Target High BG (mmol/L)',\n",
    "       'BWZ Target Low BG (mmol/L)'],axis=1)"
   ]
  },
  {
   "cell_type": "code",
   "execution_count": 116,
   "metadata": {},
   "outputs": [],
   "source": [
    "#new.dtypes"
   ]
  },
  {
   "cell_type": "code",
   "execution_count": 117,
   "metadata": {},
   "outputs": [],
   "source": [
    "#Transform numeric columns to float\n",
    "new['Sensor Glucose (mmol/L)'] = new['Sensor Glucose (mmol/L)'].astype(float)\n",
    "new['BG Reading (mmol/L)'] = new['BG Reading (mmol/L)'].astype(float)\n",
    "new['Basal Rate (U/h)'] = new['Basal Rate (U/h)'].astype(float)\n",
    "#new['Bolus Volume Selected (U)'] = new['Bolus Volume Selected (U)'].astype(float)\n",
    "new['Bolus Volume Delivered (U)'] = new['Bolus Volume Delivered (U)'].astype(float)\n",
    "#new['BWZ Estimate (U)'] = new['BWZ Estimate (U)'].astype(float)\n",
    "#new['BWZ Target High BG (mmol/L)'] = new['BWZ Target High BG (mmol/L)'].astype(float)\n",
    "new['BWZ Carb Ratio (g/U)'] = new['BWZ Carb Ratio (g/U)'].astype(float)\n",
    "#new['BWZ Insulin Sensitivity (mmol/L/U)'] = new['BWZ Insulin Sensitivity (mmol/L/U)'].astype(float)\n",
    "new['BWZ Carb Input (grams)'] = new['BWZ Carb Input (grams)'].astype(float)\n",
    "#new['BWZ BG Input (mmol/L)'] = new['BWZ BG Input (mmol/L)'].astype(float)\n",
    "new['BWZ Correction Estimate (U)'] = new[ 'BWZ Correction Estimate (U)'].astype(float)\n",
    "#new['BWZ Food Estimate (U)'] = new['BWZ Food Estimate (U)'].astype(float)\n",
    "#new['BWZ Active Insulin (U)'] = new['BWZ Active Insulin (U)'].astype(float)\n",
    "#new['Bolus Number'] = new['Bolus Number'].astype(float)"
   ]
  },
  {
   "cell_type": "code",
   "execution_count": 118,
   "metadata": {},
   "outputs": [],
   "source": [
    "#Make new 'Day', 'Hour' and 'Minute' columns\n",
    "new['Day'] = new['interval'].apply(lambda time: time.day)\n",
    "new['Hour'] = new['interval'].apply(lambda time: time.hour)\n",
    "new['Minute'] = new['interval'].apply(lambda time: time.minute)"
   ]
  },
  {
   "cell_type": "markdown",
   "metadata": {},
   "source": [
    "## Cleaning the data"
   ]
  },
  {
   "cell_type": "code",
   "execution_count": 149,
   "metadata": {},
   "outputs": [
    {
     "data": {
      "text/plain": [
       "(15.0, 0.0)"
      ]
     },
     "execution_count": 149,
     "metadata": {},
     "output_type": "execute_result"
    },
    {
     "data": {
      "image/png": "[encoded data removed]",
      "text/plain": [
       "<Figure size 720x576 with 2 Axes>"
      ]
     },
     "metadata": {
      "needs_background": "light"
     },
     "output_type": "display_data"
    }
   ],
   "source": [
    "plt.figure(figsize=(10,8))\n",
    "ax = sns.heatmap(new.corr(),annot=True)\n",
    "bottom, top = ax.get_ylim()\n",
    "ax.set_ylim(bottom + 0.5, top - 0.5)"
   ]
  },
  {
   "cell_type": "code",
   "execution_count": 148,
   "metadata": {},
   "outputs": [
    {
     "data": {
      "text/plain": [
       "<matplotlib.axes._subplots.AxesSubplot at 0x1a17ff7490>"
      ]
     },
     "execution_count": 148,
     "metadata": {},
     "output_type": "execute_result"
    },
    {
     "data": {
      "image/png": "[encoded data removed]",
      "text/plain": [
       "<Figure size 432x288 with 1 Axes>"
      ]
     },
     "metadata": {
      "needs_background": "light"
     },
     "output_type": "display_data"
    }
   ],
   "source": [
    "sns.heatmap(new.isnull(),yticklabels=False,cbar=False,cmap='viridis')"
   ]
  },
  {
   "cell_type": "code",
   "execution_count": 63,
   "metadata": {},
   "outputs": [
    {
     "data": {
      "text/plain": [
       "Index(['Sensor Glucose (mmol/L)', 'interval', 'BG Reading (mmol/L)',\n",
       "       'Basal Rate (U/h)', 'Bolus Type', 'Bolus Volume Delivered (U)', 'Alarm',\n",
       "       'Suspend', 'Rewind', 'BWZ Target High BG (mmol/L)',\n",
       "       'BWZ Target Low BG (mmol/L)', 'BWZ Carb Ratio (g/U)',\n",
       "       'BWZ Carb Input (grams)', 'BWZ Correction Estimate (U)', 'Day', 'Hour',\n",
       "       'Minute'],\n",
       "      dtype='object')"
      ]
     },
     "execution_count": 63,
     "metadata": {},
     "output_type": "execute_result"
    }
   ],
   "source": [
    "new.columns"
   ]
  },
  {
   "cell_type": "markdown",
   "metadata": {},
   "source": [
    "'Sensor Glucose (mmol/L)' and 'BG Reading (mmol/L)' represent the same quantity (blood glucose) measured differently"
   ]
  },
  {
   "cell_type": "code",
   "execution_count": 120,
   "metadata": {},
   "outputs": [],
   "source": [
    "#We want to make a function that replaces null values of 'Sensor Glucose (mmol/L)' with 'BG Reading (mmol/L)' \n",
    "#when possible\n",
    "def bg_replace(cols):\n",
    "    '''A function to replace null values of 'Sensor Glucose (mmol/L)' \n",
    "       with values from 'BG Reading (mmol/L)'\n",
    "    '''\n",
    "    sbg = cols[0]\n",
    "    bgr = cols[1]\n",
    "    \n",
    "    if pd.isnull(sbg):\n",
    "        return bgr\n",
    "    else:\n",
    "        return sbg"
   ]
  },
  {
   "cell_type": "code",
   "execution_count": 121,
   "metadata": {},
   "outputs": [],
   "source": [
    "new['Sensor Glucose (mmol/L)'] = new[['Sensor Glucose (mmol/L)','BG Reading (mmol/L)']].apply(bg_replace,axis=1)"
   ]
  },
  {
   "cell_type": "code",
   "execution_count": 122,
   "metadata": {},
   "outputs": [],
   "source": [
    "new = new.drop('BG Reading (mmol/L)',axis=1)"
   ]
  },
  {
   "cell_type": "markdown",
   "metadata": {},
   "source": [
    "'Basal Rate (U/h)': the Basal rate will be the same for a given time interval and currently the only entry in that column indicates a change in the rate. We can fill in some values"
   ]
  },
  {
   "cell_type": "code",
   "execution_count": 123,
   "metadata": {},
   "outputs": [],
   "source": [
    "#Let's try to make a function to apply to the 'Basal Rate (U/h)' column. \n",
    "#I JUST DO IT BY HOUR!!!!!\n",
    "#TODO: precise to everyhalf hour so do-able read documentation\n",
    "#A way could be to map interval column eg: df['loan_repaid'] = df['loan_status'].map({'Fully Paid':1,'Charged Off':0})\n",
    "\n",
    "def basal_fill(cols):\n",
    "    '''A function to fill values in 'Basal Rate (U/h)' column. Should be fixed to be able to change on the half hour \n",
    "    '''\n",
    "    num = cols[0]\n",
    "    hr = cols[1]\n",
    "    #if num==NaN:\n",
    "    if pd.isnull(num):\n",
    "    #if np.isnan(num):\n",
    "        if hr==0 or hr==1:\n",
    "            return 0.5\n",
    "        elif 2<=hr<7:\n",
    "            return 0.4\n",
    "        elif 7<=hr<13:\n",
    "            return 0.7\n",
    "        elif 13<=hr<15:\n",
    "            return 0.8\n",
    "        elif 15<=hr<16:\n",
    "            return 1.0\n",
    "        elif 16<=hr<21:\n",
    "            return 1.6\n",
    "        elif 21<=hr<22:\n",
    "            return 0.75\n",
    "        elif 22<=hr:\n",
    "            return 0.9\n",
    "        \n",
    "    else:\n",
    "        return num"
   ]
  },
  {
   "cell_type": "code",
   "execution_count": 124,
   "metadata": {},
   "outputs": [],
   "source": [
    "new['Basal Rate (U/h)'] = new[['Basal Rate (U/h)','Hour']].apply(basal_fill,axis=1)"
   ]
  },
  {
   "cell_type": "code",
   "execution_count": 125,
   "metadata": {},
   "outputs": [],
   "source": [
    "#Do similar thing as basal for carb ratios\n",
    "def carb_ratio(cols):\n",
    "    '''A function to fill values in 'BWZ Carb Ratio (g/U)' column.  \n",
    "    '''\n",
    "    num = cols[0]\n",
    "    hr = cols[1]\n",
    "    #if num==NaN:\n",
    "    if pd.isnull(num):\n",
    "    #if np.isnan(num):\n",
    "        if hr==0 or hr==1:\n",
    "            return 9\n",
    "        elif 1<hr<11:\n",
    "            return 0\n",
    "        elif 11<=hr<19:\n",
    "            return 8.3\n",
    "        elif 19<=hr:\n",
    "            return 10\n",
    "        \n",
    "    else:\n",
    "        return num"
   ]
  },
  {
   "cell_type": "code",
   "execution_count": 126,
   "metadata": {},
   "outputs": [],
   "source": [
    "new['BWZ Carb Ratio (g/U)'] = new[['BWZ Carb Ratio (g/U)','Hour']].apply(basal_fill,axis=1)"
   ]
  },
  {
   "cell_type": "code",
   "execution_count": null,
   "metadata": {},
   "outputs": [],
   "source": []
  },
  {
   "cell_type": "markdown",
   "metadata": {},
   "source": [
    "Fill NaN values with 0's"
   ]
  },
  {
   "cell_type": "code",
   "execution_count": 127,
   "metadata": {},
   "outputs": [],
   "source": [
    "new['Bolus Volume Delivered (U)'] = new['Bolus Volume Delivered (U)'].fillna(value=0)"
   ]
  },
  {
   "cell_type": "code",
   "execution_count": 128,
   "metadata": {},
   "outputs": [],
   "source": [
    "new['BWZ Carb Input (grams)'] = new['BWZ Carb Input (grams)'].fillna(value=0)"
   ]
  },
  {
   "cell_type": "code",
   "execution_count": 129,
   "metadata": {},
   "outputs": [],
   "source": [
    "new['BWZ Correction Estimate (U)'] = new['BWZ Correction Estimate (U)'].fillna(value=0)"
   ]
  },
  {
   "cell_type": "code",
   "execution_count": 130,
   "metadata": {},
   "outputs": [],
   "source": [
    "#new['Bolus Number'] = new['Bolus Number'].fillna(value=0)"
   ]
  },
  {
   "cell_type": "markdown",
   "metadata": {},
   "source": [
    "## Categorical and dummy variables"
   ]
  },
  {
   "cell_type": "code",
   "execution_count": 131,
   "metadata": {},
   "outputs": [
    {
     "name": "stdout",
     "output_type": "stream",
     "text": [
      "<class 'pandas.core.frame.DataFrame'>\n",
      "Int64Index: 38984 entries, 0 to 38983\n",
      "Data columns (total 15 columns):\n",
      "Sensor Glucose (mmol/L)        31825 non-null float64\n",
      "interval                       38984 non-null datetime64[ns]\n",
      "Basal Rate (U/h)               38984 non-null float64\n",
      "Bolus Type                     17646 non-null object\n",
      "Bolus Volume Delivered (U)     38984 non-null float64\n",
      "Alarm                          838 non-null object\n",
      "Suspend                        124 non-null object\n",
      "Rewind                         14 non-null object\n",
      "BWZ Carb Ratio (g/U)           38984 non-null float64\n",
      "BWZ Carb Input (grams)         38984 non-null float64\n",
      "BWZ Correction Estimate (U)    38984 non-null float64\n",
      "Bolus Source                   17588 non-null object\n",
      "Day                            38984 non-null int64\n",
      "Hour                           38984 non-null int64\n",
      "Minute                         38984 non-null int64\n",
      "dtypes: datetime64[ns](1), float64(6), int64(3), object(5)\n",
      "memory usage: 4.8+ MB\n"
     ]
    }
   ],
   "source": [
    "new.info()"
   ]
  },
  {
   "cell_type": "code",
   "execution_count": 132,
   "metadata": {},
   "outputs": [
    {
     "data": {
      "text/plain": [
       "CLOSED_LOOP_MICRO_BOLUS                     15860\n",
       "CLOSED_LOOP_FOOD_BOLUS                       1054\n",
       "CLOSED_LOOP_BG_CORRECTION                     462\n",
       "BOLUS_WIZARD                                  130\n",
       "CLOSED_LOOP_BG_CORRECTION_AND_FOOD_BOLUS       82\n",
       "Name: Bolus Source, dtype: int64"
      ]
     },
     "execution_count": 132,
     "metadata": {},
     "output_type": "execute_result"
    }
   ],
   "source": [
    "new['Bolus Source'].value_counts()"
   ]
  },
  {
   "cell_type": "code",
   "execution_count": 133,
   "metadata": {},
   "outputs": [
    {
     "data": {
      "text/plain": [
       "array(['CLOSED_LOOP_MICRO_BOLUS', nan, 'CLOSED_LOOP_FOOD_BOLUS',\n",
       "       'CLOSED_LOOP_BG_CORRECTION', 'BOLUS_WIZARD',\n",
       "       'CLOSED_LOOP_BG_CORRECTION_AND_FOOD_BOLUS'], dtype=object)"
      ]
     },
     "execution_count": 133,
     "metadata": {},
     "output_type": "execute_result"
    }
   ],
   "source": [
    "#MAYBE DroP SOUrCE!!!\n",
    "new['Bolus Source'].unique()"
   ]
  },
  {
   "cell_type": "code",
   "execution_count": 134,
   "metadata": {},
   "outputs": [],
   "source": [
    "new['Bolus Source'] = new['Bolus Source'].map({'CLOSED_LOOP_MICRO_BOLUS':1,'CLOSED_LOOP_FOOD_BOLUS':2,\n",
    "                                               'CLOSED_LOOP_BG_CORRECTION':3,'BOLUS_WIZARD':4,\n",
    "                                               'CLOSED_LOOP_BG_CORRECTION_AND_FOOD_BOLUS':5})"
   ]
  },
  {
   "cell_type": "code",
   "execution_count": 135,
   "metadata": {},
   "outputs": [],
   "source": [
    "new['Bolus Source'] = new['Bolus Source'].fillna(value=0)"
   ]
  },
  {
   "cell_type": "code",
   "execution_count": 136,
   "metadata": {},
   "outputs": [],
   "source": [
    "new['Bolus Source'] = new['Bolus Source'].astype(float)"
   ]
  },
  {
   "cell_type": "code",
   "execution_count": 140,
   "metadata": {},
   "outputs": [],
   "source": [
    "def binit(string):\n",
    "    '''function to turn string entries to 1 and non-string entries to 0\n",
    "    '''\n",
    "    if isinstance(string, str)==True:\n",
    "        return 1\n",
    "    else:\n",
    "        return 0"
   ]
  },
  {
   "cell_type": "code",
   "execution_count": 138,
   "metadata": {},
   "outputs": [],
   "source": [
    "new['Bolus Type'] = new['Bolus Type'].apply(binit)"
   ]
  },
  {
   "cell_type": "code",
   "execution_count": 139,
   "metadata": {},
   "outputs": [],
   "source": [
    "new['Alarm'] = new['Alarm'].apply(binit)"
   ]
  },
  {
   "cell_type": "code",
   "execution_count": 141,
   "metadata": {},
   "outputs": [],
   "source": [
    "new['Suspend'] = new['Suspend'].apply(binit)"
   ]
  },
  {
   "cell_type": "code",
   "execution_count": 142,
   "metadata": {},
   "outputs": [],
   "source": [
    "new['Rewind'] = new['Rewind'].apply(binit)"
   ]
  },
  {
   "cell_type": "code",
   "execution_count": 145,
   "metadata": {},
   "outputs": [],
   "source": [
    "#Finally we're ready to drop the NaN's in sensor glucose (even though it should be easy enough to impute the values)\n",
    "new = new.dropna()"
   ]
  },
  {
   "cell_type": "code",
   "execution_count": 146,
   "metadata": {},
   "outputs": [],
   "source": [
    "#Let's create a categorical column off the 'Sensor Glucose (mmol/L)' to determine if the BG reading is in target or not\n",
    "def target(read):\n",
    "    '''function to create a new 'Target' column based on if 'Sensor Glucose (mmol/L)' is in a range between 4 and 10\n",
    "    '''\n",
    "    if 4<=read<=10:\n",
    "        return 1\n",
    "    else:\n",
    "        return 0"
   ]
  },
  {
   "cell_type": "code",
   "execution_count": 147,
   "metadata": {},
   "outputs": [],
   "source": [
    "new['Target'] = new['Sensor Glucose (mmol/L)'].apply(target)"
   ]
  },
  {
   "cell_type": "markdown",
   "metadata": {},
   "source": [
    "## Linear Regression"
   ]
  },
  {
   "cell_type": "markdown",
   "metadata": {},
   "source": [
    "Train and test the data"
   ]
  },
  {
   "cell_type": "code",
   "execution_count": 150,
   "metadata": {},
   "outputs": [],
   "source": [
    "y = new['Sensor Glucose (mmol/L)']\n",
    "X = new.drop(['interval','Sensor Glucose (mmol/L)','Target'],axis=1)"
   ]
  },
  {
   "cell_type": "code",
   "execution_count": 151,
   "metadata": {},
   "outputs": [],
   "source": [
    "from sklearn.model_selection import train_test_split"
   ]
  },
  {
   "cell_type": "code",
   "execution_count": 154,
   "metadata": {},
   "outputs": [],
   "source": [
    "X_train, X_test, y_train, y_test = train_test_split(X, y, test_size=0.3, random_state=101)"
   ]
  },
  {
   "cell_type": "code",
   "execution_count": null,
   "metadata": {},
   "outputs": [],
   "source": []
  },
  {
   "cell_type": "code",
   "execution_count": 153,
   "metadata": {},
   "outputs": [],
   "source": [
    "from sklearn.linear_model import LinearRegression"
   ]
  },
  {
   "cell_type": "code",
   "execution_count": 155,
   "metadata": {},
   "outputs": [],
   "source": [
    "#create instance of linear regression model\n",
    "lm = LinearRegression()"
   ]
  },
  {
   "cell_type": "code",
   "execution_count": 156,
   "metadata": {},
   "outputs": [
    {
     "data": {
      "text/plain": [
       "LinearRegression(copy_X=True, fit_intercept=True, n_jobs=None, normalize=False)"
      ]
     },
     "execution_count": 156,
     "metadata": {},
     "output_type": "execute_result"
    }
   ],
   "source": [
    "#train it on training data\n",
    "lm.fit(X_train,y_train)"
   ]
  },
  {
   "cell_type": "markdown",
   "metadata": {},
   "source": [
    "Predict test data"
   ]
  },
  {
   "cell_type": "code",
   "execution_count": 157,
   "metadata": {},
   "outputs": [],
   "source": [
    "predictions = lm.predict( X_test)"
   ]
  },
  {
   "cell_type": "code",
   "execution_count": 158,
   "metadata": {},
   "outputs": [
    {
     "data": {
      "text/plain": [
       "Text(0, 0.5, 'Predicted Y')"
      ]
     },
     "execution_count": 158,
     "metadata": {},
     "output_type": "execute_result"
    },
    {
     "data": {
      "image/png": "[encoded data removed]",
      "text/plain": [
       "<Figure size 432x288 with 1 Axes>"
      ]
     },
     "metadata": {
      "needs_background": "light"
     },
     "output_type": "display_data"
    }
   ],
   "source": [
    "plt.scatter(y_test,predictions)\n",
    "plt.xlabel('Y Test')\n",
    "plt.ylabel('Predicted Y')"
   ]
  },
  {
   "cell_type": "code",
   "execution_count": 159,
   "metadata": {},
   "outputs": [
    {
     "data": {
      "image/png": "[encoded data removed]",
      "text/plain": [
       "<Figure size 432x288 with 1 Axes>"
      ]
     },
     "metadata": {
      "needs_background": "light"
     },
     "output_type": "display_data"
    }
   ],
   "source": [
    "sns.distplot((y_test-predictions),bins=50);"
   ]
  },
  {
   "cell_type": "code",
   "execution_count": 160,
   "metadata": {},
   "outputs": [
    {
     "name": "stdout",
     "output_type": "stream",
     "text": [
      "MAE: 2.6113785773069846\n",
      "MSE: 10.739739827827897\n",
      "RMSE: 3.2771542270433196\n"
     ]
    }
   ],
   "source": [
    "from sklearn import metrics\n",
    "\n",
    "print('MAE:', metrics.mean_absolute_error(y_test, predictions))\n",
    "print('MSE:', metrics.mean_squared_error(y_test, predictions))\n",
    "print('RMSE:', np.sqrt(metrics.mean_squared_error(y_test, predictions)))"
   ]
  },
  {
   "cell_type": "code",
   "execution_count": 161,
   "metadata": {},
   "outputs": [
    {
     "data": {
      "text/plain": [
       "0.13622310062130316"
      ]
     },
     "execution_count": 161,
     "metadata": {},
     "output_type": "execute_result"
    }
   ],
   "source": [
    "lm.score(X_test, y_test)"
   ]
  },
  {
   "cell_type": "markdown",
   "metadata": {},
   "source": [
    "wow not great! let's try other methods"
   ]
  },
  {
   "cell_type": "markdown",
   "metadata": {},
   "source": [
    "## Logistic Regression"
   ]
  },
  {
   "cell_type": "code",
   "execution_count": 162,
   "metadata": {},
   "outputs": [],
   "source": [
    "X = new.drop(['Sensor Glucose (mmol/L)','Target','interval'],axis=1)\n",
    "y = new['Target']"
   ]
  },
  {
   "cell_type": "code",
   "execution_count": 163,
   "metadata": {},
   "outputs": [],
   "source": [
    "X_train, X_test, y_train, y_test = train_test_split(X, y, test_size=0.3, random_state=101)"
   ]
  },
  {
   "cell_type": "code",
   "execution_count": 164,
   "metadata": {},
   "outputs": [],
   "source": [
    "from sklearn.linear_model import LogisticRegression"
   ]
  },
  {
   "cell_type": "code",
   "execution_count": 165,
   "metadata": {},
   "outputs": [],
   "source": [
    "#create an instance of logistic regression model\n",
    "lr = LogisticRegression()"
   ]
  },
  {
   "cell_type": "code",
   "execution_count": 167,
   "metadata": {},
   "outputs": [
    {
     "name": "stderr",
     "output_type": "stream",
     "text": [
      "/Users/madeleineanthonisen1/opt/anaconda3/lib/python3.7/site-packages/sklearn/linear_model/logistic.py:432: FutureWarning: Default solver will be changed to 'lbfgs' in 0.22. Specify a solver to silence this warning.\n",
      "  FutureWarning)\n"
     ]
    },
    {
     "data": {
      "text/plain": [
       "LogisticRegression(C=1.0, class_weight=None, dual=False, fit_intercept=True,\n",
       "                   intercept_scaling=1, l1_ratio=None, max_iter=100,\n",
       "                   multi_class='warn', n_jobs=None, penalty='l2',\n",
       "                   random_state=None, solver='warn', tol=0.0001, verbose=0,\n",
       "                   warm_start=False)"
      ]
     },
     "execution_count": 167,
     "metadata": {},
     "output_type": "execute_result"
    }
   ],
   "source": [
    "lr.fit(X_train,y_train)"
   ]
  },
  {
   "cell_type": "code",
   "execution_count": 168,
   "metadata": {},
   "outputs": [],
   "source": [
    "predictions = lr.predict(X_test)"
   ]
  },
  {
   "cell_type": "code",
   "execution_count": 169,
   "metadata": {},
   "outputs": [],
   "source": [
    "from sklearn.metrics import classification_report, confusion_matrix"
   ]
  },
  {
   "cell_type": "code",
   "execution_count": 170,
   "metadata": {},
   "outputs": [
    {
     "name": "stdout",
     "output_type": "stream",
     "text": [
      "[[1618 2068]\n",
      " [1089 4773]]\n",
      "\n",
      "\n",
      "              precision    recall  f1-score   support\n",
      "\n",
      "           0       0.60      0.44      0.51      3686\n",
      "           1       0.70      0.81      0.75      5862\n",
      "\n",
      "    accuracy                           0.67      9548\n",
      "   macro avg       0.65      0.63      0.63      9548\n",
      "weighted avg       0.66      0.67      0.66      9548\n",
      "\n"
     ]
    }
   ],
   "source": [
    "print(confusion_matrix(y_test,predictions))\n",
    "print('\\n')\n",
    "print(classification_report(y_test,predictions))"
   ]
  },
  {
   "cell_type": "markdown",
   "metadata": {},
   "source": [
    "Still not great...!"
   ]
  },
  {
   "cell_type": "markdown",
   "metadata": {},
   "source": [
    "## K - Nearest Neighbours "
   ]
  },
  {
   "cell_type": "markdown",
   "metadata": {},
   "source": [
    "Standardize variables"
   ]
  },
  {
   "cell_type": "code",
   "execution_count": 171,
   "metadata": {},
   "outputs": [],
   "source": [
    "from sklearn.preprocessing import StandardScaler"
   ]
  },
  {
   "cell_type": "code",
   "execution_count": 172,
   "metadata": {},
   "outputs": [],
   "source": [
    "#create a standard scaler object\n",
    "scaler = StandardScaler()"
   ]
  },
  {
   "cell_type": "code",
   "execution_count": 173,
   "metadata": {},
   "outputs": [
    {
     "data": {
      "text/plain": [
       "StandardScaler(copy=True, with_mean=True, with_std=True)"
      ]
     },
     "execution_count": 173,
     "metadata": {},
     "output_type": "execute_result"
    }
   ],
   "source": [
    "scaler.fit(new.drop(['interval','Target'],axis=1))"
   ]
  },
  {
   "cell_type": "code",
   "execution_count": 174,
   "metadata": {},
   "outputs": [],
   "source": [
    "scaled_features = scaler.transform(new.drop(['interval','Target'],axis=1))"
   ]
  },
  {
   "cell_type": "code",
   "execution_count": 175,
   "metadata": {},
   "outputs": [
    {
     "data": {
      "text/plain": [
       "Index(['Sensor Glucose (mmol/L)', 'interval', 'Basal Rate (U/h)', 'Bolus Type',\n",
       "       'Bolus Volume Delivered (U)', 'Alarm', 'Suspend', 'Rewind',\n",
       "       'BWZ Carb Ratio (g/U)', 'BWZ Carb Input (grams)',\n",
       "       'BWZ Correction Estimate (U)', 'Bolus Source', 'Day', 'Hour', 'Minute',\n",
       "       'Target'],\n",
       "      dtype='object')"
      ]
     },
     "execution_count": 175,
     "metadata": {},
     "output_type": "execute_result"
    }
   ],
   "source": [
    "new.columns"
   ]
  },
  {
   "cell_type": "code",
   "execution_count": 177,
   "metadata": {},
   "outputs": [],
   "source": [
    "df_feat = pd.DataFrame(scaled_features,columns=['Sensor Glucose (mmol/L)','Basal Rate (U/h)', 'Bolus Type',\n",
    "       'Bolus Volume Delivered (U)', 'Alarm', 'Suspend', 'Rewind',\n",
    "       'BWZ Carb Ratio (g/U)', 'BWZ Carb Input (grams)',\n",
    "       'BWZ Correction Estimate (U)', 'Bolus Number', 'Day','Hour', 'Minute'])"
   ]
  },
  {
   "cell_type": "code",
   "execution_count": 178,
   "metadata": {},
   "outputs": [],
   "source": [
    "X_train, X_test, y_train, y_test = train_test_split(scaled_features,new['Target'],\n",
    "                                                    test_size=0.30)"
   ]
  },
  {
   "cell_type": "markdown",
   "metadata": {},
   "source": [
    "Use kNN"
   ]
  },
  {
   "cell_type": "code",
   "execution_count": 179,
   "metadata": {},
   "outputs": [],
   "source": [
    "from sklearn.neighbors import KNeighborsClassifier"
   ]
  },
  {
   "cell_type": "code",
   "execution_count": 180,
   "metadata": {},
   "outputs": [],
   "source": [
    "knn = KNeighborsClassifier(n_neighbors=1)"
   ]
  },
  {
   "cell_type": "code",
   "execution_count": 181,
   "metadata": {},
   "outputs": [
    {
     "data": {
      "text/plain": [
       "KNeighborsClassifier(algorithm='auto', leaf_size=30, metric='minkowski',\n",
       "                     metric_params=None, n_jobs=None, n_neighbors=1, p=2,\n",
       "                     weights='uniform')"
      ]
     },
     "execution_count": 181,
     "metadata": {},
     "output_type": "execute_result"
    }
   ],
   "source": [
    "knn.fit(X_train,y_train)"
   ]
  },
  {
   "cell_type": "code",
   "execution_count": 182,
   "metadata": {},
   "outputs": [],
   "source": [
    "predictions = knn.predict(X_test)"
   ]
  },
  {
   "cell_type": "code",
   "execution_count": 183,
   "metadata": {},
   "outputs": [
    {
     "name": "stdout",
     "output_type": "stream",
     "text": [
      "[[3679  173]\n",
      " [ 140 5556]]\n",
      "\n",
      "\n",
      "              precision    recall  f1-score   support\n",
      "\n",
      "           0       0.96      0.96      0.96      3852\n",
      "           1       0.97      0.98      0.97      5696\n",
      "\n",
      "    accuracy                           0.97      9548\n",
      "   macro avg       0.97      0.97      0.97      9548\n",
      "weighted avg       0.97      0.97      0.97      9548\n",
      "\n"
     ]
    }
   ],
   "source": [
    "print(confusion_matrix(y_test,predictions))\n",
    "print('\\n')\n",
    "print(classification_report(y_test,predictions))"
   ]
  },
  {
   "cell_type": "markdown",
   "metadata": {},
   "source": [
    "Much better! can we improve still using kNN?"
   ]
  },
  {
   "cell_type": "code",
   "execution_count": 184,
   "metadata": {},
   "outputs": [],
   "source": [
    "error_rate = []\n",
    "\n",
    "# Will take some time\n",
    "for i in range(1,40):\n",
    "    \n",
    "    knn = KNeighborsClassifier(n_neighbors=i)\n",
    "    knn.fit(X_train,y_train)\n",
    "    pred_i = knn.predict(X_test)\n",
    "    error_rate.append(np.mean(pred_i != y_test))"
   ]
  },
  {
   "cell_type": "code",
   "execution_count": 185,
   "metadata": {},
   "outputs": [
    {
     "data": {
      "text/plain": [
       "Text(0, 0.5, 'Error Rate')"
      ]
     },
     "execution_count": 185,
     "metadata": {},
     "output_type": "execute_result"
    },
    {
     "data": {
      "image/png": "[encoded data removed]",
      "text/plain": [
       "<Figure size 720x432 with 1 Axes>"
      ]
     },
     "metadata": {
      "needs_background": "light"
     },
     "output_type": "display_data"
    }
   ],
   "source": [
    "plt.figure(figsize=(10,6))\n",
    "plt.plot(range(1,40),error_rate,color='blue', linestyle='dashed', marker='o',\n",
    "         markerfacecolor='red', markersize=10)\n",
    "plt.title('Error Rate vs. K Value')\n",
    "plt.xlabel('K')\n",
    "plt.ylabel('Error Rate')"
   ]
  },
  {
   "cell_type": "code",
   "execution_count": 194,
   "metadata": {},
   "outputs": [
    {
     "name": "stdout",
     "output_type": "stream",
     "text": [
      "WITH K=3\n",
      "\n",
      "\n",
      "[[2258 1428]\n",
      " [1314 4548]]\n",
      "\n",
      "\n",
      "              precision    recall  f1-score   support\n",
      "\n",
      "           0       0.63      0.61      0.62      3686\n",
      "           1       0.76      0.78      0.77      5862\n",
      "\n",
      "    accuracy                           0.71      9548\n",
      "   macro avg       0.70      0.69      0.70      9548\n",
      "weighted avg       0.71      0.71      0.71      9548\n",
      "\n"
     ]
    }
   ],
   "source": [
    "# NOW WITH K=3\n",
    "knn = KNeighborsClassifier(n_neighbors=3)\n",
    "\n",
    "knn.fit(X_train,y_train)\n",
    "pred = knn.predict(X_test)\n",
    "\n",
    "print('WITH K=3')\n",
    "print('\\n')\n",
    "print(confusion_matrix(y_test,pred))\n",
    "print('\\n')\n",
    "print(classification_report(y_test,pred))"
   ]
  },
  {
   "cell_type": "markdown",
   "metadata": {},
   "source": [
    "## Decision Tree"
   ]
  },
  {
   "cell_type": "code",
   "execution_count": 196,
   "metadata": {},
   "outputs": [],
   "source": [
    "X = new.drop(['Sensor Glucose (mmol/L)','Target','interval'],axis=1)\n",
    "y = new['Target']\n",
    "X_train, X_test, y_train, y_test = train_test_split(X, y, test_size=0.30, random_state=101)"
   ]
  },
  {
   "cell_type": "code",
   "execution_count": 198,
   "metadata": {},
   "outputs": [],
   "source": [
    "from sklearn.tree import DecisionTreeClassifier"
   ]
  },
  {
   "cell_type": "code",
   "execution_count": 199,
   "metadata": {},
   "outputs": [],
   "source": [
    "dtree = DecisionTreeClassifier()"
   ]
  },
  {
   "cell_type": "code",
   "execution_count": 200,
   "metadata": {},
   "outputs": [
    {
     "data": {
      "text/plain": [
       "DecisionTreeClassifier(class_weight=None, criterion='gini', max_depth=None,\n",
       "                       max_features=None, max_leaf_nodes=None,\n",
       "                       min_impurity_decrease=0.0, min_impurity_split=None,\n",
       "                       min_samples_leaf=1, min_samples_split=2,\n",
       "                       min_weight_fraction_leaf=0.0, presort=False,\n",
       "                       random_state=None, splitter='best')"
      ]
     },
     "execution_count": 200,
     "metadata": {},
     "output_type": "execute_result"
    }
   ],
   "source": [
    "dtree.fit(X_train,y_train)"
   ]
  },
  {
   "cell_type": "markdown",
   "metadata": {},
   "source": [
    "Predict test data"
   ]
  },
  {
   "cell_type": "code",
   "execution_count": 201,
   "metadata": {},
   "outputs": [],
   "source": [
    "predicitons = dtree.predict(X_test)"
   ]
  },
  {
   "cell_type": "code",
   "execution_count": 202,
   "metadata": {},
   "outputs": [
    {
     "name": "stdout",
     "output_type": "stream",
     "text": [
      "[[2258 1428]\n",
      " [1314 4548]]\n",
      "\n",
      "\n",
      "              precision    recall  f1-score   support\n",
      "\n",
      "           0       0.63      0.61      0.62      3686\n",
      "           1       0.76      0.78      0.77      5862\n",
      "\n",
      "    accuracy                           0.71      9548\n",
      "   macro avg       0.70      0.69      0.70      9548\n",
      "weighted avg       0.71      0.71      0.71      9548\n",
      "\n"
     ]
    }
   ],
   "source": [
    "print(confusion_matrix(y_test,pred))\n",
    "print('\\n')\n",
    "print(classification_report(y_test,pred))"
   ]
  },
  {
   "cell_type": "markdown",
   "metadata": {},
   "source": [
    "Good not great..."
   ]
  },
  {
   "cell_type": "markdown",
   "metadata": {},
   "source": [
    "## Random Forest"
   ]
  },
  {
   "cell_type": "code",
   "execution_count": 188,
   "metadata": {},
   "outputs": [],
   "source": [
    "X = new.drop(['Sensor Glucose (mmol/L)','Target','interval'],axis=1)\n",
    "y = new['Target']\n",
    "X_train, X_test, y_train, y_test = train_test_split(X, y, test_size=0.30, random_state=101)"
   ]
  },
  {
   "cell_type": "code",
   "execution_count": 189,
   "metadata": {},
   "outputs": [],
   "source": [
    "from sklearn.ensemble import RandomForestClassifier"
   ]
  },
  {
   "cell_type": "code",
   "execution_count": 190,
   "metadata": {},
   "outputs": [],
   "source": [
    "rfc = RandomForestClassifier(n_estimators=600)"
   ]
  },
  {
   "cell_type": "code",
   "execution_count": 191,
   "metadata": {},
   "outputs": [
    {
     "data": {
      "text/plain": [
       "RandomForestClassifier(bootstrap=True, class_weight=None, criterion='gini',\n",
       "                       max_depth=None, max_features='auto', max_leaf_nodes=None,\n",
       "                       min_impurity_decrease=0.0, min_impurity_split=None,\n",
       "                       min_samples_leaf=1, min_samples_split=2,\n",
       "                       min_weight_fraction_leaf=0.0, n_estimators=600,\n",
       "                       n_jobs=None, oob_score=False, random_state=None,\n",
       "                       verbose=0, warm_start=False)"
      ]
     },
     "execution_count": 191,
     "metadata": {},
     "output_type": "execute_result"
    }
   ],
   "source": [
    "rfc.fit(X_train,y_train)"
   ]
  },
  {
   "cell_type": "markdown",
   "metadata": {},
   "source": [
    "Predict test data"
   ]
  },
  {
   "cell_type": "code",
   "execution_count": 192,
   "metadata": {},
   "outputs": [],
   "source": [
    "predictions = rfc.predict(X_test)"
   ]
  },
  {
   "cell_type": "code",
   "execution_count": 193,
   "metadata": {},
   "outputs": [
    {
     "name": "stdout",
     "output_type": "stream",
     "text": [
      "[[1421 2265]\n",
      " [2390 3472]]\n",
      "\n",
      "\n",
      "              precision    recall  f1-score   support\n",
      "\n",
      "           0       0.37      0.39      0.38      3686\n",
      "           1       0.61      0.59      0.60      5862\n",
      "\n",
      "    accuracy                           0.51      9548\n",
      "   macro avg       0.49      0.49      0.49      9548\n",
      "weighted avg       0.52      0.51      0.51      9548\n",
      "\n"
     ]
    }
   ],
   "source": [
    "print(confusion_matrix(y_test,pred))\n",
    "print('\\n')\n",
    "print(classification_report(y_test,pred))"
   ]
  },
  {
   "cell_type": "markdown",
   "metadata": {},
   "source": [
    "Even worse! more feature-engineering is needed"
   ]
  },
  {
   "cell_type": "markdown",
   "metadata": {},
   "source": [
    "## Naive Bayes"
   ]
  },
  {
   "cell_type": "code",
   "execution_count": 204,
   "metadata": {},
   "outputs": [],
   "source": [
    "X = new.drop(['Sensor Glucose (mmol/L)','Target','interval'],axis=1)\n",
    "y = new['Target']\n",
    "X_train, X_test, y_train, y_test = train_test_split(X, y, test_size=0.30, random_state=101)"
   ]
  },
  {
   "cell_type": "code",
   "execution_count": 205,
   "metadata": {},
   "outputs": [],
   "source": [
    "from sklearn.naive_bayes import GaussianNB"
   ]
  },
  {
   "cell_type": "code",
   "execution_count": 206,
   "metadata": {},
   "outputs": [],
   "source": [
    "bayes = GaussianNB()"
   ]
  },
  {
   "cell_type": "code",
   "execution_count": 207,
   "metadata": {},
   "outputs": [
    {
     "data": {
      "text/plain": [
       "GaussianNB(priors=None, var_smoothing=1e-09)"
      ]
     },
     "execution_count": 207,
     "metadata": {},
     "output_type": "execute_result"
    }
   ],
   "source": [
    "bayes.fit(X_train,y_train)"
   ]
  },
  {
   "cell_type": "code",
   "execution_count": 208,
   "metadata": {},
   "outputs": [],
   "source": [
    "predictions = bayes.predict(X_test)"
   ]
  },
  {
   "cell_type": "code",
   "execution_count": 209,
   "metadata": {},
   "outputs": [
    {
     "name": "stdout",
     "output_type": "stream",
     "text": [
      "[[2258 1428]\n",
      " [1314 4548]]\n",
      "\n",
      "\n",
      "              precision    recall  f1-score   support\n",
      "\n",
      "           0       0.63      0.61      0.62      3686\n",
      "           1       0.76      0.78      0.77      5862\n",
      "\n",
      "    accuracy                           0.71      9548\n",
      "   macro avg       0.70      0.69      0.70      9548\n",
      "weighted avg       0.71      0.71      0.71      9548\n",
      "\n"
     ]
    }
   ],
   "source": [
    "print(confusion_matrix(y_test,pred))\n",
    "print('\\n')\n",
    "print(classification_report(y_test,pred))"
   ]
  },
  {
   "cell_type": "code",
   "execution_count": null,
   "metadata": {},
   "outputs": [],
   "source": []
  }
 ],
 "metadata": {
  "kernelspec": {
   "display_name": "Python 3",
   "language": "python",
   "name": "python3"
  },
  "language_info": {
   "codemirror_mode": {
    "name": "ipython",
    "version": 3
   },
   "file_extension": ".py",
   "mimetype": "text/x-python",
   "name": "python",
   "nbconvert_exporter": "python",
   "pygments_lexer": "ipython3",
   "version": "3.7.4"
  }
 },
 "nbformat": 4,
 "nbformat_minor": 2
}
